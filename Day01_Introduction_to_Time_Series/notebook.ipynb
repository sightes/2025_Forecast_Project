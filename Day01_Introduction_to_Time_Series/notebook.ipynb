{
 "cells": [
  {
   "cell_type": "code",
   "execution_count": 3,
   "metadata": {},
   "outputs": [
    {
     "ename": "TypeError",
     "evalue": "cannot unpack non-iterable NoneType object",
     "output_type": "error",
     "traceback": [
      "\u001b[0;31m---------------------------------------------------------------------------\u001b[0m",
      "\u001b[0;31mTypeError\u001b[0m                                 Traceback (most recent call last)",
      "Cell \u001b[0;32mIn[3], line 76\u001b[0m\n\u001b[1;32m     73\u001b[0m test_series \u001b[38;5;241m=\u001b[39m create_complex_time_series()\n\u001b[1;32m     75\u001b[0m \u001b[38;5;66;03m# Decompose\u001b[39;00m\n\u001b[0;32m---> 76\u001b[0m trend, seasonal, residual \u001b[38;5;241m=\u001b[39m decompose_series(test_series)\n\u001b[1;32m     78\u001b[0m \u001b[38;5;66;03m# Check stationarity\u001b[39;00m\n\u001b[1;32m     79\u001b[0m is_stationary \u001b[38;5;241m=\u001b[39m check_stationarity(test_series)\n",
      "\u001b[0;31mTypeError\u001b[0m: cannot unpack non-iterable NoneType object"
     ]
    }
   ],
   "source": [
    "\"\"\"\n",
    "Day 01: Introduction to Time Series - Exercises\n",
    "\"\"\"\n",
    "\n",
    "import pandas as pd\n",
    "import numpy as np\n",
    "import matplotlib.pyplot as plt\n",
    "from datetime import datetime, timedelta\n",
    "from statsmodels.tsa.seasonal import seasonal_decompose\n",
    "from statsmodels.tsa.stattools import adfuller\n",
    "\n",
    "# Exercise 1: Create a Time Series with Multiple Components\n",
    "def create_complex_time_series():\n",
    "    \"\"\"\n",
    "    Create a time series with the following components:\n",
    "    - Linear trend\n",
    "    - Monthly seasonality\n",
    "    - Weekly seasonality\n",
    "    - Random noise\n",
    "    \n",
    "    Returns:\n",
    "        pd.Series: Time series with datetime index\n",
    "    \"\"\"\n",
    "    # Your code here\n",
    "    pass\n",
    "\n",
    "# Exercise 2: Decompose Time Series\n",
    "def decompose_series(series):\n",
    "    \"\"\"\n",
    "    Decompose a time series into trend, seasonal, and residual components.\n",
    "    \n",
    "    Args:\n",
    "        series (pd.Series): Input time series\n",
    "        \n",
    "    Returns:\n",
    "        tuple: (trend, seasonal, residual)\n",
    "    \"\"\"\n",
    "    # Your code here\n",
    "    pass\n",
    "\n",
    "# Exercise 3: Check Stationarity\n",
    "def check_stationarity(series):\n",
    "    \"\"\"\n",
    "    Check if a time series is stationary using the Augmented Dickey-Fuller test.\n",
    "    \n",
    "    Args:\n",
    "        series (pd.Series): Input time series\n",
    "        \n",
    "    Returns:\n",
    "        bool: True if stationary, False otherwise\n",
    "    \"\"\"\n",
    "    # Your code here\n",
    "    pass\n",
    "\n",
    "# Exercise 4: Visualize Components\n",
    "def plot_components(series, trend, seasonal, residual):\n",
    "    \"\"\"\n",
    "    Create a subplot with all components of the time series.\n",
    "    \n",
    "    Args:\n",
    "        series (pd.Series): Original time series\n",
    "        trend (pd.Series): Trend component\n",
    "        seasonal (pd.Series): Seasonal component\n",
    "        residual (pd.Series): Residual component\n",
    "    \"\"\"\n",
    "    # Your code here\n",
    "    pass\n",
    "\n",
    "# Test your solutions\n",
    "if __name__ == \"__main__\":\n",
    "    # Create test data\n",
    "    dates = pd.date_range(start='2023-01-01', periods=365, freq='D')\n",
    "    test_series = create_complex_time_series()\n",
    "    \n",
    "    # Decompose\n",
    "    trend, seasonal, residual = decompose_series(test_series)\n",
    "    \n",
    "    # Check stationarity\n",
    "    is_stationary = check_stationarity(test_series)\n",
    "    print(f\"Is the series stationary? {is_stationary}\")\n",
    "    \n",
    "    # Plot components\n",
    "    plot_components(test_series, trend, seasonal, residual) "
   ]
  },
  {
   "cell_type": "code",
   "execution_count": 2,
   "metadata": {},
   "outputs": [
    {
     "name": "stdout",
     "output_type": "stream",
     "text": [
      "Defaulting to user installation because normal site-packages is not writeable\n",
      "Collecting statsmodels\n",
      "  Using cached statsmodels-0.14.4-cp39-cp39-macosx_11_0_arm64.whl.metadata (9.2 kB)\n",
      "Requirement already satisfied: numpy<3,>=1.22.3 in /Users/sightes/Library/Python/3.9/lib/python/site-packages (from statsmodels) (1.26.4)\n",
      "Requirement already satisfied: scipy!=1.9.2,>=1.8 in /Users/sightes/Library/Python/3.9/lib/python/site-packages (from statsmodels) (1.10.1)\n",
      "Requirement already satisfied: pandas!=2.1.0,>=1.4 in /Users/sightes/Library/Python/3.9/lib/python/site-packages (from statsmodels) (2.2.3)\n",
      "Collecting patsy>=0.5.6 (from statsmodels)\n",
      "  Using cached patsy-1.0.1-py2.py3-none-any.whl.metadata (3.3 kB)\n",
      "Requirement already satisfied: packaging>=21.3 in /Users/sightes/Library/Python/3.9/lib/python/site-packages (from statsmodels) (23.1)\n",
      "Requirement already satisfied: python-dateutil>=2.8.2 in /Users/sightes/Library/Python/3.9/lib/python/site-packages (from pandas!=2.1.0,>=1.4->statsmodels) (2.8.2)\n",
      "Requirement already satisfied: pytz>=2020.1 in /Users/sightes/Library/Python/3.9/lib/python/site-packages (from pandas!=2.1.0,>=1.4->statsmodels) (2024.2)\n",
      "Requirement already satisfied: tzdata>=2022.7 in /Users/sightes/Library/Python/3.9/lib/python/site-packages (from pandas!=2.1.0,>=1.4->statsmodels) (2024.2)\n",
      "Requirement already satisfied: six>=1.5 in /Users/sightes/Library/Python/3.9/lib/python/site-packages (from python-dateutil>=2.8.2->pandas!=2.1.0,>=1.4->statsmodels) (1.16.0)\n",
      "Using cached statsmodels-0.14.4-cp39-cp39-macosx_11_0_arm64.whl (9.9 MB)\n",
      "Using cached patsy-1.0.1-py2.py3-none-any.whl (232 kB)\n",
      "Installing collected packages: patsy, statsmodels\n",
      "Successfully installed patsy-1.0.1 statsmodels-0.14.4\n",
      "Note: you may need to restart the kernel to use updated packages.\n"
     ]
    }
   ],
   "source": [
    "pip install  statsmodels"
   ]
  }
 ],
 "metadata": {
  "kernelspec": {
   "display_name": "Python 3",
   "language": "python",
   "name": "python3"
  },
  "language_info": {
   "codemirror_mode": {
    "name": "ipython",
    "version": 3
   },
   "file_extension": ".py",
   "mimetype": "text/x-python",
   "name": "python",
   "nbconvert_exporter": "python",
   "pygments_lexer": "ipython3",
   "version": "3.9.6"
  }
 },
 "nbformat": 4,
 "nbformat_minor": 2
}
